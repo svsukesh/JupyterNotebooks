{
 "cells": [
  {
   "cell_type": "code",
   "execution_count": 1,
   "metadata": {},
   "outputs": [],
   "source": [
    "import numpy as np\n",
    "import matplotlib.pyplot as plt\n",
    "from sklearn.datasets import make_blobs"
   ]
  },
  {
   "cell_type": "code",
   "execution_count": 4,
   "metadata": {},
   "outputs": [],
   "source": [
    "#Generate our datasets\n",
    "dataset = make_blobs(n_samples=150,\n",
    "                   centers=4,\n",
    "                   n_features=2,\n",
    "                   cluster_std=1.6,\n",
    "                   random_state=50\n",
    "                   )"
   ]
  },
  {
   "cell_type": "code",
   "execution_count": 5,
   "metadata": {},
   "outputs": [
    {
     "name": "stdout",
     "output_type": "stream",
     "text": [
      "(array([[-5.16024080e+00, -2.38684010e+00],\n",
      "       [-2.63424873e+00,  4.09021982e+00],\n",
      "       [-1.74506811e+00,  2.32416494e+00],\n",
      "       [ 1.26381204e+00, -7.84824077e+00],\n",
      "       [-3.94237940e+00,  9.82816286e+00],\n",
      "       [-6.13566432e+00, -2.93094035e+00],\n",
      "       [-3.75526942e+00, -1.56756272e+00],\n",
      "       [-2.22213523e+00,  6.09007868e+00],\n",
      "       [-1.15051062e+00,  4.69836316e+00],\n",
      "       [-5.57382576e+00, -2.26737455e+00],\n",
      "       [ 2.47622860e-01, -5.03543616e+00],\n",
      "       [-2.48496227e+00,  6.45335620e+00],\n",
      "       [-2.08956053e+00,  6.09212482e+00],\n",
      "       [ 7.08946126e-02,  1.27161487e+01],\n",
      "       [-3.85525653e+00,  9.54219399e+00],\n",
      "       [-6.18170696e-01,  3.86444820e+00],\n",
      "       [-5.45752453e+00,  8.83458047e+00],\n",
      "       [-1.06446593e+00,  6.79073758e+00],\n",
      "       [-1.10703455e+00, -4.83713152e+00],\n",
      "       [-7.38296450e-01, -5.20135260e+00],\n",
      "       [-3.09117088e+00,  9.37957142e+00],\n",
      "       [-5.15417920e+00, -4.12796457e+00],\n",
      "       [-7.67542214e-01, -5.69548201e+00],\n",
      "       [-5.43312802e-01,  4.81083266e+00],\n",
      "       [-1.43729337e+00,  1.12137736e+01],\n",
      "       [-1.23559969e+00,  7.04074956e+00],\n",
      "       [-6.65058496e+00, -2.11819191e+00],\n",
      "       [-6.82140576e-01, -4.83269360e+00],\n",
      "       [-1.37711368e+00, -5.50047455e+00],\n",
      "       [-4.27501504e+00,  1.08359469e+01],\n",
      "       [-5.78104717e+00, -3.22180679e+00],\n",
      "       [-1.35671783e+00, -3.72590953e+00],\n",
      "       [-2.67815731e+00, -2.32828819e+00],\n",
      "       [-4.07170308e-01,  8.96120751e+00],\n",
      "       [-1.69955192e+00,  7.60084115e+00],\n",
      "       [-6.65130512e+00, -3.92501387e+00],\n",
      "       [-2.68372456e+00,  9.09039465e+00],\n",
      "       [-3.22848472e+00,  9.44642918e+00],\n",
      "       [-2.45885784e+00, -3.47646132e+00],\n",
      "       [ 5.78704435e-04,  5.91650411e+00],\n",
      "       [-3.99958257e+00,  6.14371395e+00],\n",
      "       [-2.15083399e+00,  4.02959850e+00],\n",
      "       [-2.77244011e+00,  6.46273998e+00],\n",
      "       [-4.55544644e-02, -5.77956461e+00],\n",
      "       [-4.74516474e+00,  7.89837755e+00],\n",
      "       [-3.02994109e+00,  1.86959382e+00],\n",
      "       [-7.10483937e-01,  1.18869578e+01],\n",
      "       [-2.27757881e+00,  6.52863065e+00],\n",
      "       [ 1.18033537e+00, -7.97895365e+00],\n",
      "       [-2.23331822e+00,  3.02152355e+00],\n",
      "       [-4.49410773e-01,  4.74945884e+00],\n",
      "       [-1.99764975e+00, -3.85128758e+00],\n",
      "       [-6.93525397e+00,  9.96223593e+00],\n",
      "       [-5.07069742e+00,  3.45240702e+00],\n",
      "       [-3.49785697e+00, -8.75045274e-01],\n",
      "       [ 9.86777496e-01, -7.30690762e+00],\n",
      "       [ 1.86144971e+00, -9.23586332e+00],\n",
      "       [ 1.00681205e+00, -5.97364221e+00],\n",
      "       [-5.19987051e+00, -1.59879364e+00],\n",
      "       [ 9.41731341e-02, -4.05882797e+00],\n",
      "       [-5.57986277e-01, -2.70088621e+00],\n",
      "       [-6.24195183e+00, -2.19627952e+00],\n",
      "       [ 3.14164337e-02, -5.38350852e+00],\n",
      "       [-3.12816138e+00,  4.66185155e+00],\n",
      "       [-5.01209756e-01, -3.66534438e+00],\n",
      "       [ 2.24563558e+00, -6.37052906e+00],\n",
      "       [ 4.98944932e-01,  6.00142129e+00],\n",
      "       [-1.36304582e+00,  5.23782367e+00],\n",
      "       [-1.54966315e+00,  1.00231083e+01],\n",
      "       [-2.37668110e+00,  7.71046258e+00],\n",
      "       [-2.77413056e+00, -5.78872960e+00],\n",
      "       [-6.31415081e+00, -2.06497342e+00],\n",
      "       [-4.47570217e+00,  7.55190425e+00],\n",
      "       [-2.45586193e+00, -4.16423929e+00],\n",
      "       [ 1.88573297e+00,  9.80686047e+00],\n",
      "       [-7.62627421e+00, -4.60727232e+00],\n",
      "       [-4.95959909e+00,  6.90989103e+00],\n",
      "       [-4.67049794e+00, -3.22427571e+00],\n",
      "       [-4.73235460e+00,  8.32182956e+00],\n",
      "       [-6.36790963e+00, -5.30288810e-02],\n",
      "       [ 1.67348300e+00,  9.24419385e+00],\n",
      "       [-4.00809984e-01,  6.36258690e+00],\n",
      "       [-3.03519149e+00,  1.07139036e+01],\n",
      "       [-4.51953031e+00,  1.11233331e+01],\n",
      "       [-7.91429107e-02,  5.52285176e+00],\n",
      "       [-4.72491689e+00,  8.39526196e+00],\n",
      "       [-1.55079863e+00,  8.16118375e+00],\n",
      "       [-3.63618643e+00, -4.01910949e+00],\n",
      "       [ 1.19709771e+00, -5.35592862e+00],\n",
      "       [ 1.88630815e+00,  4.19768567e+00],\n",
      "       [-5.73938121e+00, -7.25648845e-01],\n",
      "       [-2.45115126e+00,  9.04261880e+00],\n",
      "       [-3.50424173e+00, -2.93025873e+00],\n",
      "       [-3.01900791e+00,  2.74450783e+00],\n",
      "       [-3.56957593e+00,  4.44439591e+00],\n",
      "       [-2.43786697e+00,  9.81572597e+00],\n",
      "       [ 1.64436813e+00, -3.29688399e+00],\n",
      "       [-2.29833776e+00, -4.66005371e+00],\n",
      "       [-4.57024715e+00, -7.15787278e-01],\n",
      "       [-4.97460278e+00, -3.08825154e+00],\n",
      "       [-3.47593712e-01, -4.33384716e+00],\n",
      "       [ 1.02471465e+00, -4.64795418e+00],\n",
      "       [-5.41232378e+00, -2.68666494e+00],\n",
      "       [ 1.15283270e-01, -4.98158692e+00],\n",
      "       [-2.47774003e+00,  4.54903367e+00],\n",
      "       [-6.10691421e+00, -5.98494706e+00],\n",
      "       [-1.53349447e+00, -5.87137205e+00],\n",
      "       [-3.78760877e+00,  1.13477239e+01],\n",
      "       [-1.70400879e+00, -2.88008464e+00],\n",
      "       [-4.28633194e-01, -4.24947701e+00],\n",
      "       [-6.11503859e-01, -3.24108804e+00],\n",
      "       [ 4.22044090e+00, -7.82455952e+00],\n",
      "       [-2.80907828e+00,  3.14923736e+00],\n",
      "       [-3.99861134e+00,  1.21240514e+01],\n",
      "       [-1.22199180e+00,  7.23680261e+00],\n",
      "       [-2.06717832e+00,  1.07093608e+01],\n",
      "       [-5.30355979e+00, -1.99795195e+00],\n",
      "       [ 9.02189228e-02, -4.24988128e+00],\n",
      "       [-2.32234249e+00,  1.00344087e+01],\n",
      "       [ 3.19734410e+00, -3.69780369e+00],\n",
      "       [ 5.19455346e+00, -3.85790517e+00],\n",
      "       [-6.76865308e+00, -3.56907573e+00],\n",
      "       [-4.82361594e-01,  6.51947157e+00],\n",
      "       [ 4.55976021e-02, -4.59883918e+00],\n",
      "       [-5.91551686e+00, -1.39463278e+00],\n",
      "       [-2.81491082e+00,  9.92058784e+00],\n",
      "       [-4.94029908e+00, -8.16922641e+00],\n",
      "       [-1.92339571e+00,  9.05530869e+00],\n",
      "       [-5.73193316e+00, -1.81425052e+00],\n",
      "       [-5.47121129e+00, -6.18687342e+00],\n",
      "       [-1.75136566e+00,  1.01798622e+01],\n",
      "       [-6.03097685e+00, -1.01668649e+00],\n",
      "       [ 1.08654318e+00, -6.94815805e+00],\n",
      "       [-6.92602533e-01,  7.48628457e+00],\n",
      "       [-5.10916044e+00, -4.59492642e+00],\n",
      "       [-3.71255665e-01, -4.99321884e+00],\n",
      "       [-2.59024036e+00,  1.27661848e+01],\n",
      "       [-1.19401181e+00,  5.07926203e+00],\n",
      "       [-2.15963524e+00, -7.56230415e+00],\n",
      "       [-3.36134363e+00,  8.22083113e+00],\n",
      "       [-3.72488491e+00,  5.21390971e-01],\n",
      "       [-5.20900103e+00, -1.51271262e+00],\n",
      "       [ 1.09766760e+00, -4.85679456e+00],\n",
      "       [-1.29278049e+00,  9.59936231e+00],\n",
      "       [-3.60533443e+00,  4.55359475e+00],\n",
      "       [-5.00817726e+00,  1.01801769e+01],\n",
      "       [-2.27451380e+00, -1.54186053e+00],\n",
      "       [-2.55398311e+00,  6.54115633e+00],\n",
      "       [-2.54760385e+00,  1.23266492e+01],\n",
      "       [-1.11286937e+00,  1.03086380e+01]]), array([1, 3, 3, 0, 2, 1, 1, 3, 3, 1, 0, 3, 3, 2, 2, 3, 2, 3, 0, 0, 2, 1,\n",
      "       0, 3, 2, 3, 1, 0, 0, 2, 1, 0, 1, 3, 2, 1, 2, 2, 1, 3, 3, 3, 3, 0,\n",
      "       2, 1, 2, 3, 0, 3, 3, 1, 2, 3, 1, 0, 0, 0, 1, 0, 0, 1, 0, 3, 0, 0,\n",
      "       3, 3, 2, 2, 0, 1, 2, 1, 2, 1, 3, 1, 2, 1, 2, 3, 2, 2, 3, 3, 2, 1,\n",
      "       0, 3, 1, 2, 1, 3, 3, 2, 0, 0, 1, 1, 0, 0, 1, 0, 3, 1, 0, 2, 0, 0,\n",
      "       0, 0, 3, 2, 3, 2, 1, 0, 2, 0, 0, 1, 3, 0, 1, 2, 1, 2, 1, 1, 2, 1,\n",
      "       0, 3, 1, 0, 2, 3, 0, 2, 1, 1, 0, 2, 3, 2, 1, 3, 2, 2]))\n"
     ]
    }
   ],
   "source": [
    "print(dataset)"
   ]
  },
  {
   "cell_type": "code",
   "execution_count": 6,
   "metadata": {},
   "outputs": [],
   "source": [
    "points = dataset[0]"
   ]
  },
  {
   "cell_type": "code",
   "execution_count": 7,
   "metadata": {},
   "outputs": [
    {
     "data": {
      "text/plain": [
       "array([[-5.16024080e+00, -2.38684010e+00],\n",
       "       [-2.63424873e+00,  4.09021982e+00],\n",
       "       [-1.74506811e+00,  2.32416494e+00],\n",
       "       [ 1.26381204e+00, -7.84824077e+00],\n",
       "       [-3.94237940e+00,  9.82816286e+00],\n",
       "       [-6.13566432e+00, -2.93094035e+00],\n",
       "       [-3.75526942e+00, -1.56756272e+00],\n",
       "       [-2.22213523e+00,  6.09007868e+00],\n",
       "       [-1.15051062e+00,  4.69836316e+00],\n",
       "       [-5.57382576e+00, -2.26737455e+00],\n",
       "       [ 2.47622860e-01, -5.03543616e+00],\n",
       "       [-2.48496227e+00,  6.45335620e+00],\n",
       "       [-2.08956053e+00,  6.09212482e+00],\n",
       "       [ 7.08946126e-02,  1.27161487e+01],\n",
       "       [-3.85525653e+00,  9.54219399e+00],\n",
       "       [-6.18170696e-01,  3.86444820e+00],\n",
       "       [-5.45752453e+00,  8.83458047e+00],\n",
       "       [-1.06446593e+00,  6.79073758e+00],\n",
       "       [-1.10703455e+00, -4.83713152e+00],\n",
       "       [-7.38296450e-01, -5.20135260e+00],\n",
       "       [-3.09117088e+00,  9.37957142e+00],\n",
       "       [-5.15417920e+00, -4.12796457e+00],\n",
       "       [-7.67542214e-01, -5.69548201e+00],\n",
       "       [-5.43312802e-01,  4.81083266e+00],\n",
       "       [-1.43729337e+00,  1.12137736e+01],\n",
       "       [-1.23559969e+00,  7.04074956e+00],\n",
       "       [-6.65058496e+00, -2.11819191e+00],\n",
       "       [-6.82140576e-01, -4.83269360e+00],\n",
       "       [-1.37711368e+00, -5.50047455e+00],\n",
       "       [-4.27501504e+00,  1.08359469e+01],\n",
       "       [-5.78104717e+00, -3.22180679e+00],\n",
       "       [-1.35671783e+00, -3.72590953e+00],\n",
       "       [-2.67815731e+00, -2.32828819e+00],\n",
       "       [-4.07170308e-01,  8.96120751e+00],\n",
       "       [-1.69955192e+00,  7.60084115e+00],\n",
       "       [-6.65130512e+00, -3.92501387e+00],\n",
       "       [-2.68372456e+00,  9.09039465e+00],\n",
       "       [-3.22848472e+00,  9.44642918e+00],\n",
       "       [-2.45885784e+00, -3.47646132e+00],\n",
       "       [ 5.78704435e-04,  5.91650411e+00],\n",
       "       [-3.99958257e+00,  6.14371395e+00],\n",
       "       [-2.15083399e+00,  4.02959850e+00],\n",
       "       [-2.77244011e+00,  6.46273998e+00],\n",
       "       [-4.55544644e-02, -5.77956461e+00],\n",
       "       [-4.74516474e+00,  7.89837755e+00],\n",
       "       [-3.02994109e+00,  1.86959382e+00],\n",
       "       [-7.10483937e-01,  1.18869578e+01],\n",
       "       [-2.27757881e+00,  6.52863065e+00],\n",
       "       [ 1.18033537e+00, -7.97895365e+00],\n",
       "       [-2.23331822e+00,  3.02152355e+00],\n",
       "       [-4.49410773e-01,  4.74945884e+00],\n",
       "       [-1.99764975e+00, -3.85128758e+00],\n",
       "       [-6.93525397e+00,  9.96223593e+00],\n",
       "       [-5.07069742e+00,  3.45240702e+00],\n",
       "       [-3.49785697e+00, -8.75045274e-01],\n",
       "       [ 9.86777496e-01, -7.30690762e+00],\n",
       "       [ 1.86144971e+00, -9.23586332e+00],\n",
       "       [ 1.00681205e+00, -5.97364221e+00],\n",
       "       [-5.19987051e+00, -1.59879364e+00],\n",
       "       [ 9.41731341e-02, -4.05882797e+00],\n",
       "       [-5.57986277e-01, -2.70088621e+00],\n",
       "       [-6.24195183e+00, -2.19627952e+00],\n",
       "       [ 3.14164337e-02, -5.38350852e+00],\n",
       "       [-3.12816138e+00,  4.66185155e+00],\n",
       "       [-5.01209756e-01, -3.66534438e+00],\n",
       "       [ 2.24563558e+00, -6.37052906e+00],\n",
       "       [ 4.98944932e-01,  6.00142129e+00],\n",
       "       [-1.36304582e+00,  5.23782367e+00],\n",
       "       [-1.54966315e+00,  1.00231083e+01],\n",
       "       [-2.37668110e+00,  7.71046258e+00],\n",
       "       [-2.77413056e+00, -5.78872960e+00],\n",
       "       [-6.31415081e+00, -2.06497342e+00],\n",
       "       [-4.47570217e+00,  7.55190425e+00],\n",
       "       [-2.45586193e+00, -4.16423929e+00],\n",
       "       [ 1.88573297e+00,  9.80686047e+00],\n",
       "       [-7.62627421e+00, -4.60727232e+00],\n",
       "       [-4.95959909e+00,  6.90989103e+00],\n",
       "       [-4.67049794e+00, -3.22427571e+00],\n",
       "       [-4.73235460e+00,  8.32182956e+00],\n",
       "       [-6.36790963e+00, -5.30288810e-02],\n",
       "       [ 1.67348300e+00,  9.24419385e+00],\n",
       "       [-4.00809984e-01,  6.36258690e+00],\n",
       "       [-3.03519149e+00,  1.07139036e+01],\n",
       "       [-4.51953031e+00,  1.11233331e+01],\n",
       "       [-7.91429107e-02,  5.52285176e+00],\n",
       "       [-4.72491689e+00,  8.39526196e+00],\n",
       "       [-1.55079863e+00,  8.16118375e+00],\n",
       "       [-3.63618643e+00, -4.01910949e+00],\n",
       "       [ 1.19709771e+00, -5.35592862e+00],\n",
       "       [ 1.88630815e+00,  4.19768567e+00],\n",
       "       [-5.73938121e+00, -7.25648845e-01],\n",
       "       [-2.45115126e+00,  9.04261880e+00],\n",
       "       [-3.50424173e+00, -2.93025873e+00],\n",
       "       [-3.01900791e+00,  2.74450783e+00],\n",
       "       [-3.56957593e+00,  4.44439591e+00],\n",
       "       [-2.43786697e+00,  9.81572597e+00],\n",
       "       [ 1.64436813e+00, -3.29688399e+00],\n",
       "       [-2.29833776e+00, -4.66005371e+00],\n",
       "       [-4.57024715e+00, -7.15787278e-01],\n",
       "       [-4.97460278e+00, -3.08825154e+00],\n",
       "       [-3.47593712e-01, -4.33384716e+00],\n",
       "       [ 1.02471465e+00, -4.64795418e+00],\n",
       "       [-5.41232378e+00, -2.68666494e+00],\n",
       "       [ 1.15283270e-01, -4.98158692e+00],\n",
       "       [-2.47774003e+00,  4.54903367e+00],\n",
       "       [-6.10691421e+00, -5.98494706e+00],\n",
       "       [-1.53349447e+00, -5.87137205e+00],\n",
       "       [-3.78760877e+00,  1.13477239e+01],\n",
       "       [-1.70400879e+00, -2.88008464e+00],\n",
       "       [-4.28633194e-01, -4.24947701e+00],\n",
       "       [-6.11503859e-01, -3.24108804e+00],\n",
       "       [ 4.22044090e+00, -7.82455952e+00],\n",
       "       [-2.80907828e+00,  3.14923736e+00],\n",
       "       [-3.99861134e+00,  1.21240514e+01],\n",
       "       [-1.22199180e+00,  7.23680261e+00],\n",
       "       [-2.06717832e+00,  1.07093608e+01],\n",
       "       [-5.30355979e+00, -1.99795195e+00],\n",
       "       [ 9.02189228e-02, -4.24988128e+00],\n",
       "       [-2.32234249e+00,  1.00344087e+01],\n",
       "       [ 3.19734410e+00, -3.69780369e+00],\n",
       "       [ 5.19455346e+00, -3.85790517e+00],\n",
       "       [-6.76865308e+00, -3.56907573e+00],\n",
       "       [-4.82361594e-01,  6.51947157e+00],\n",
       "       [ 4.55976021e-02, -4.59883918e+00],\n",
       "       [-5.91551686e+00, -1.39463278e+00],\n",
       "       [-2.81491082e+00,  9.92058784e+00],\n",
       "       [-4.94029908e+00, -8.16922641e+00],\n",
       "       [-1.92339571e+00,  9.05530869e+00],\n",
       "       [-5.73193316e+00, -1.81425052e+00],\n",
       "       [-5.47121129e+00, -6.18687342e+00],\n",
       "       [-1.75136566e+00,  1.01798622e+01],\n",
       "       [-6.03097685e+00, -1.01668649e+00],\n",
       "       [ 1.08654318e+00, -6.94815805e+00],\n",
       "       [-6.92602533e-01,  7.48628457e+00],\n",
       "       [-5.10916044e+00, -4.59492642e+00],\n",
       "       [-3.71255665e-01, -4.99321884e+00],\n",
       "       [-2.59024036e+00,  1.27661848e+01],\n",
       "       [-1.19401181e+00,  5.07926203e+00],\n",
       "       [-2.15963524e+00, -7.56230415e+00],\n",
       "       [-3.36134363e+00,  8.22083113e+00],\n",
       "       [-3.72488491e+00,  5.21390971e-01],\n",
       "       [-5.20900103e+00, -1.51271262e+00],\n",
       "       [ 1.09766760e+00, -4.85679456e+00],\n",
       "       [-1.29278049e+00,  9.59936231e+00],\n",
       "       [-3.60533443e+00,  4.55359475e+00],\n",
       "       [-5.00817726e+00,  1.01801769e+01],\n",
       "       [-2.27451380e+00, -1.54186053e+00],\n",
       "       [-2.55398311e+00,  6.54115633e+00],\n",
       "       [-2.54760385e+00,  1.23266492e+01],\n",
       "       [-1.11286937e+00,  1.03086380e+01]])"
      ]
     },
     "execution_count": 7,
     "metadata": {},
     "output_type": "execute_result"
    }
   ],
   "source": [
    "points"
   ]
  },
  {
   "cell_type": "code",
   "execution_count": 9,
   "metadata": {},
   "outputs": [],
   "source": [
    "#import kmeans\n",
    "from sklearn.cluster import KMeans"
   ]
  },
  {
   "cell_type": "code",
   "execution_count": 11,
   "metadata": {},
   "outputs": [],
   "source": [
    "#creat a kmeans object\n",
    "kmeans= KMeans(n_clusters=4)"
   ]
  },
  {
   "cell_type": "code",
   "execution_count": 12,
   "metadata": {},
   "outputs": [
    {
     "data": {
      "text/plain": [
       "KMeans(algorithm='auto', copy_x=True, init='k-means++', max_iter=300,\n",
       "    n_clusters=4, n_init=10, n_jobs=None, precompute_distances='auto',\n",
       "    random_state=None, tol=0.0001, verbose=0)"
      ]
     },
     "execution_count": 12,
     "metadata": {},
     "output_type": "execute_result"
    }
   ],
   "source": [
    "#fix the means object to the dataset\n",
    "kmeans.fit(points)"
   ]
  },
  {
   "cell_type": "code",
   "execution_count": 14,
   "metadata": {},
   "outputs": [
    {
     "data": {
      "text/plain": [
       "<matplotlib.collections.PathCollection at 0x1d6ee319710>"
      ]
     },
     "execution_count": 14,
     "metadata": {},
     "output_type": "execute_result"
    },
    {
     "data": {
      "image/png": "[encoded data removed]",
      "text/plain": [
       "<Figure size 432x288 with 1 Axes>"
      ]
     },
     "metadata": {
      "needs_background": "light"
     },
     "output_type": "display_data"
    }
   ],
   "source": [
    "plt.scatter(dataset[0][:,0], dataset[0][:,1])"
   ]
  },
  {
   "cell_type": "code",
   "execution_count": 15,
   "metadata": {},
   "outputs": [],
   "source": [
    "clusters =kmeans.cluster_centers_"
   ]
  },
  {
   "cell_type": "code",
   "execution_count": 16,
   "metadata": {},
   "outputs": [
    {
     "name": "stdout",
     "output_type": "stream",
     "text": [
      "[[-2.72555516  9.90209244]\n",
      " [ 0.10040409 -5.17606864]\n",
      " [-1.85518931  5.22237691]\n",
      " [-5.15260718 -2.69707391]]\n"
     ]
    }
   ],
   "source": [
    "#pint the clusters\n",
    "print(clusters)"
   ]
  },
  {
   "cell_type": "code",
   "execution_count": 17,
   "metadata": {},
   "outputs": [],
   "source": [
    "y_km=kmeans.fit_predict(points)"
   ]
  },
  {
   "cell_type": "code",
   "execution_count": 18,
   "metadata": {},
   "outputs": [
    {
     "data": {
      "text/plain": [
       "array([2, 0, 0, 1, 3, 2, 2, 0, 0, 2, 1, 0, 0, 3, 3, 0, 3, 0, 1, 1, 3, 2,\n",
       "       1, 0, 3, 0, 2, 1, 1, 3, 2, 1, 2, 3, 0, 2, 3, 3, 2, 0, 0, 0, 0, 1,\n",
       "       3, 0, 3, 0, 1, 0, 0, 1, 3, 0, 2, 1, 1, 1, 2, 1, 1, 2, 1, 0, 1, 1,\n",
       "       0, 0, 3, 3, 1, 2, 3, 1, 3, 2, 0, 2, 3, 2, 3, 0, 3, 3, 0, 3, 3, 2,\n",
       "       1, 0, 2, 3, 2, 0, 0, 3, 1, 1, 2, 2, 1, 1, 2, 1, 0, 2, 1, 3, 1, 1,\n",
       "       1, 1, 0, 3, 0, 3, 2, 1, 3, 1, 1, 2, 0, 1, 2, 3, 2, 3, 2, 2, 3, 2,\n",
       "       1, 0, 2, 1, 3, 0, 1, 3, 2, 2, 1, 3, 0, 3, 2, 0, 3, 3])"
      ]
     },
     "execution_count": 18,
     "metadata": {},
     "output_type": "execute_result"
    }
   ],
   "source": [
    "y_km"
   ]
  },
  {
   "cell_type": "code",
   "execution_count": 24,
   "metadata": {},
   "outputs": [
    {
     "data": {
      "text/plain": [
       "<matplotlib.collections.PathCollection at 0x1d6ee381e80>"
      ]
     },
     "execution_count": 24,
     "metadata": {},
     "output_type": "execute_result"
    },
    {
     "data": {
      "image/png": "[encoded data removed]",
      "text/plain": [
       "<Figure size 432x288 with 1 Axes>"
      ]
     },
     "metadata": {
      "needs_background": "light"
     },
     "output_type": "display_data"
    }
   ],
   "source": [
    "plt.scatter(points[y_km==0,0], points[y_km==0,1], s = 50, color = 'red')\n",
    "plt.scatter(points[y_km==1,0], points[y_km==1,1], s = 50, color = 'blue')\n",
    "plt.scatter(points[y_km==3,0], points[y_km==3,1], s = 50, color = 'green')\n",
    "plt.scatter(points[y_km==2,0], points[y_km==2,1], s = 50, color = 'yellow')"
   ]
  },
  {
   "cell_type": "code",
   "execution_count": 28,
   "metadata": {},
   "outputs": [
    {
     "data": {
      "image/png": "[encoded data removed]",
      "text/plain": [
       "<Figure size 432x288 with 1 Axes>"
      ]
     },
     "metadata": {
      "needs_background": "light"
     },
     "output_type": "display_data"
    }
   ],
   "source": [
    "\n",
    "\n",
    "plt.scatter(points[y_km==0,0], points[y_km==0,1], s = 50, color = 'red')\n",
    "plt.scatter(points[y_km==1,0], points[y_km==1,1], s = 50, color = 'blue')\n",
    "plt.scatter(points[y_km==3,0], points[y_km==3,1], s = 50, color = 'green')\n",
    "plt.scatter(points[y_km==2,0], points[y_km==2,1], s = 50, color = 'yellow')\n",
    "plt.scatter(clusters[0][0], clusters[0][1], marker='*', s=500, color = 'black')\n",
    "plt.scatter(clusters[1][0], clusters[1][1], marker='*', s=400, color = 'magenta')\n",
    "plt.scatter(clusters[2][0], clusters[2][1], marker='*', s=400, color = 'cyan')\n",
    "plt.scatter(clusters[3][0], clusters[3][1], marker='*', s=400, color = 'orange')\n",
    "\n",
    "plt.show()"
   ]
  },
  {
   "cell_type": "code",
   "execution_count": null,
   "metadata": {},
   "outputs": [],
   "source": []
  }
 ],
 "metadata": {
  "kernelspec": {
   "display_name": "Python 3",
   "language": "python",
   "name": "python3"
  },
  "language_info": {
   "codemirror_mode": {
    "name": "ipython",
    "version": 3
   },
   "file_extension": ".py",
   "mimetype": "text/x-python",
   "name": "python",
   "nbconvert_exporter": "python",
   "pygments_lexer": "ipython3",
   "version": "3.7.1"
  }
 },
 "nbformat": 4,
 "nbformat_minor": 2
}
